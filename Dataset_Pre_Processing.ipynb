{
  "nbformat": 4,
  "nbformat_minor": 0,
  "metadata": {
    "colab": {
      "provenance": [],
      "gpuType": "T4",
      "include_colab_link": true
    },
    "kernelspec": {
      "name": "python3",
      "display_name": "Python 3"
    },
    "language_info": {
      "name": "python"
    },
    "accelerator": "GPU"
  },
  "cells": [
    {
      "cell_type": "markdown",
      "metadata": {
        "id": "view-in-github",
        "colab_type": "text"
      },
      "source": [
        "<a href=\"https://colab.research.google.com/github/carson-edmonds/AAI-521-Sports-Image-Classification/blob/main/Dataset_Pre_Processing.ipynb\" target=\"_parent\"><img src=\"https://colab.research.google.com/assets/colab-badge.svg\" alt=\"Open In Colab\"/></a>"
      ]
    },
    {
      "cell_type": "markdown",
      "source": [
        "##Pre-processing"
      ],
      "metadata": {
        "id": "46neuh7JeMWC"
      }
    },
    {
      "cell_type": "code",
      "execution_count": 1,
      "metadata": {
        "id": "qZAq53C4di46",
        "colab": {
          "base_uri": "https://localhost:8080/"
        },
        "outputId": "e485269d-e384-4f58-c20d-2b8530aaf1b5"
      },
      "outputs": [
        {
          "output_type": "stream",
          "name": "stdout",
          "text": [
            "\u001b[?25l     \u001b[90m━━━━━━━━━━━━━━━━━━━━━━━━━━━━━━━━━━━━━━━━\u001b[0m \u001b[32m0.0/93.7 kB\u001b[0m \u001b[31m?\u001b[0m eta \u001b[36m-:--:--\u001b[0m\r\u001b[2K     \u001b[90m━━━━━━━━━━━━━━━━━━━━━━━━━━━━━━━━━━━━━━━━\u001b[0m \u001b[32m93.7/93.7 kB\u001b[0m \u001b[31m3.1 MB/s\u001b[0m eta \u001b[36m0:00:00\u001b[0m\n",
            "\u001b[?25h"
          ]
        }
      ],
      "source": [
        "!pip install -q kaggle\n",
        "!pip install -q patool\n"
      ]
    },
    {
      "cell_type": "code",
      "source": [
        "import numpy as np\n",
        "import matplotlib.pyplot as plt\n",
        "import cv2\n",
        "import os\n",
        "import requests\n",
        "from PIL import Image\n",
        "from io import BytesIO\n",
        "import random\n",
        "import pickle\n",
        "from sklearn.model_selection import train_test_split\n",
        "import patoolib\n",
        "\n",
        "# Data visualization\n",
        "import seaborn as sns\n",
        "import numpy as np\n",
        "import pandas as pd\n",
        "import tensorflow as tf\n",
        "\n",
        "# Keras\n",
        "from keras.models import Sequential\n",
        "from keras.layers import Dense, Dropout, Flatten\n",
        "from keras.optimizers import SGD, Adam, Adadelta, RMSprop\n",
        "import keras.backend as K\n",
        "from tensorflow.keras.preprocessing.image import ImageDataGenerator\n",
        "# Scaling data\n",
        "from sklearn.preprocessing import StandardScaler\n",
        "# Classification Report\n",
        "from sklearn.metrics import classification_report\n",
        "from keras.utils import to_categorical\n",
        "from sklearn.metrics import confusion_matrix\n",
        "from google.colab import files"
      ],
      "metadata": {
        "id": "Ffop888_W4Xy"
      },
      "execution_count": 2,
      "outputs": []
    },
    {
      "cell_type": "code",
      "source": [
        "# get api key from kaggle\n",
        "# upload kaggle.json that was generated from kaggle\n",
        "files.upload()\n",
        "\n",
        "! mkdir ~/.kaggle\n",
        "! cp kaggle.json ~/.kaggle/\n",
        "! chmod 600 ~/.kaggle/kaggle.json\n",
        "! kaggle datasets download -d rishikeshkonapure/sports-image-dataset/\n",
        "! mkdir kaggle_data\n",
        "! unzip /content/sports-image-dataset.zip -d kaggle_data"
      ],
      "metadata": {
        "id": "UIymYJAcLJfE"
      },
      "execution_count": null,
      "outputs": []
    },
    {
      "cell_type": "code",
      "source": [
        "data_dir = '/content/kaggle_data/data'\n",
        "categories = [\"badminton\", \"baseball\", \"basketball\", \"boxing\",\n",
        "                \"chess\", \"cricket\", \"fencing\", \"football\", \"formula1\",\n",
        "                \"gymnastics\", \"hockey\", \"ice_hockey\", \"kabaddi\", \"motogp\",\n",
        "                \"shooting\", \"swimming\", \"table_tennis\", \"tennis\", \"volleyball\",\n",
        "                \"weight_lifting\", \"wrestling\", \"wwe\"]\n",
        "\n",
        "data_list = []\n",
        "for category in categories:\n",
        "    path = os.path.join(data_dir,category)\n",
        "    for img_name in os.listdir(path):\n",
        "        try:\n",
        "          img_raw = cv2.imread(os.path.join(path,img_name))\n",
        "          img_grey = cv2.imread(os.path.join(path,img_name),cv2.IMREAD_GRAYSCALE)\n",
        "\n",
        "          # Append data to the list\n",
        "          data_list.append({\n",
        "              'category': category,\n",
        "              'img_raw': img_raw,\n",
        "              'img_grey': img_grey,\n",
        "              'category_index': categories.index(category),\n",
        "          })\n",
        "\n",
        "        except Exception as e:\n",
        "            pass\n",
        "\n",
        "# Create a DataFrame from the list of dictionaries\n",
        "df = pd.DataFrame(data_list)"
      ],
      "metadata": {
        "id": "nuevEHi1d3cz"
      },
      "execution_count": 3,
      "outputs": []
    },
    {
      "cell_type": "code",
      "source": [
        "# drop missing values\n",
        "df = df.dropna()\n",
        "print(\"Missing values\", df['img_raw'].isnull().sum())\n",
        "# random sample from df\n",
        "random_sample = df.sample(n=5, random_state=42)\n",
        "# Display random sample\n",
        "display(random_sample)"
      ],
      "metadata": {
        "id": "MwOp4uPT9u2e",
        "outputId": "73a2ea1d-82b9-4888-e8d6-9f594e58076f",
        "colab": {
          "base_uri": "https://localhost:8080/",
          "height": 224
        }
      },
      "execution_count": 4,
      "outputs": [
        {
          "output_type": "stream",
          "name": "stdout",
          "text": [
            "Missing values 0\n"
          ]
        },
        {
          "output_type": "display_data",
          "data": {
            "text/plain": [
              "           category                                            img_raw  \\\n",
              "9223       shooting  [[[68, 73, 76], [103, 108, 111], [95, 100, 103...   \n",
              "2994          chess  [[[47, 80, 66], [71, 106, 92], [68, 102, 91], ...   \n",
              "10259      swimming  [[[221, 191, 78], [221, 191, 78], [219, 192, 7...   \n",
              "10914  table_tennis  [[[97, 97, 97], [97, 97, 97], [97, 97, 97], [9...   \n",
              "10709  table_tennis  [[[161, 125, 65], [144, 108, 48], [126, 90, 30...   \n",
              "\n",
              "                                                img_grey  category_index  \n",
              "9223   [[73, 108, 100, 94, 101, 96, 99, 98, 99, 99, 9...              14  \n",
              "2994   [[72, 98, 95, 100, 66, 10, 18, 143, 158, 164, ...               4  \n",
              "10259  [[161, 161, 161, 161, 162, 162, 162, 162, 161,...              15  \n",
              "10914  [[97, 97, 97, 98, 98, 99, 99, 99, 98, 98, 98, ...              16  \n",
              "10709  [[111, 94, 76, 70, 71, 72, 73, 74, 77, 77, 77,...              16  "
            ],
            "text/html": [
              "\n",
              "  <div id=\"df-c71b5e1f-15be-41bf-bb20-55c6f74090f4\" class=\"colab-df-container\">\n",
              "    <div>\n",
              "<style scoped>\n",
              "    .dataframe tbody tr th:only-of-type {\n",
              "        vertical-align: middle;\n",
              "    }\n",
              "\n",
              "    .dataframe tbody tr th {\n",
              "        vertical-align: top;\n",
              "    }\n",
              "\n",
              "    .dataframe thead th {\n",
              "        text-align: right;\n",
              "    }\n",
              "</style>\n",
              "<table border=\"1\" class=\"dataframe\">\n",
              "  <thead>\n",
              "    <tr style=\"text-align: right;\">\n",
              "      <th></th>\n",
              "      <th>category</th>\n",
              "      <th>img_raw</th>\n",
              "      <th>img_grey</th>\n",
              "      <th>category_index</th>\n",
              "    </tr>\n",
              "  </thead>\n",
              "  <tbody>\n",
              "    <tr>\n",
              "      <th>9223</th>\n",
              "      <td>shooting</td>\n",
              "      <td>[[[68, 73, 76], [103, 108, 111], [95, 100, 103...</td>\n",
              "      <td>[[73, 108, 100, 94, 101, 96, 99, 98, 99, 99, 9...</td>\n",
              "      <td>14</td>\n",
              "    </tr>\n",
              "    <tr>\n",
              "      <th>2994</th>\n",
              "      <td>chess</td>\n",
              "      <td>[[[47, 80, 66], [71, 106, 92], [68, 102, 91], ...</td>\n",
              "      <td>[[72, 98, 95, 100, 66, 10, 18, 143, 158, 164, ...</td>\n",
              "      <td>4</td>\n",
              "    </tr>\n",
              "    <tr>\n",
              "      <th>10259</th>\n",
              "      <td>swimming</td>\n",
              "      <td>[[[221, 191, 78], [221, 191, 78], [219, 192, 7...</td>\n",
              "      <td>[[161, 161, 161, 161, 162, 162, 162, 162, 161,...</td>\n",
              "      <td>15</td>\n",
              "    </tr>\n",
              "    <tr>\n",
              "      <th>10914</th>\n",
              "      <td>table_tennis</td>\n",
              "      <td>[[[97, 97, 97], [97, 97, 97], [97, 97, 97], [9...</td>\n",
              "      <td>[[97, 97, 97, 98, 98, 99, 99, 99, 98, 98, 98, ...</td>\n",
              "      <td>16</td>\n",
              "    </tr>\n",
              "    <tr>\n",
              "      <th>10709</th>\n",
              "      <td>table_tennis</td>\n",
              "      <td>[[[161, 125, 65], [144, 108, 48], [126, 90, 30...</td>\n",
              "      <td>[[111, 94, 76, 70, 71, 72, 73, 74, 77, 77, 77,...</td>\n",
              "      <td>16</td>\n",
              "    </tr>\n",
              "  </tbody>\n",
              "</table>\n",
              "</div>\n",
              "    <div class=\"colab-df-buttons\">\n",
              "\n",
              "  <div class=\"colab-df-container\">\n",
              "    <button class=\"colab-df-convert\" onclick=\"convertToInteractive('df-c71b5e1f-15be-41bf-bb20-55c6f74090f4')\"\n",
              "            title=\"Convert this dataframe to an interactive table.\"\n",
              "            style=\"display:none;\">\n",
              "\n",
              "  <svg xmlns=\"http://www.w3.org/2000/svg\" height=\"24px\" viewBox=\"0 -960 960 960\">\n",
              "    <path d=\"M120-120v-720h720v720H120Zm60-500h600v-160H180v160Zm220 220h160v-160H400v160Zm0 220h160v-160H400v160ZM180-400h160v-160H180v160Zm440 0h160v-160H620v160ZM180-180h160v-160H180v160Zm440 0h160v-160H620v160Z\"/>\n",
              "  </svg>\n",
              "    </button>\n",
              "\n",
              "  <style>\n",
              "    .colab-df-container {\n",
              "      display:flex;\n",
              "      gap: 12px;\n",
              "    }\n",
              "\n",
              "    .colab-df-convert {\n",
              "      background-color: #E8F0FE;\n",
              "      border: none;\n",
              "      border-radius: 50%;\n",
              "      cursor: pointer;\n",
              "      display: none;\n",
              "      fill: #1967D2;\n",
              "      height: 32px;\n",
              "      padding: 0 0 0 0;\n",
              "      width: 32px;\n",
              "    }\n",
              "\n",
              "    .colab-df-convert:hover {\n",
              "      background-color: #E2EBFA;\n",
              "      box-shadow: 0px 1px 2px rgba(60, 64, 67, 0.3), 0px 1px 3px 1px rgba(60, 64, 67, 0.15);\n",
              "      fill: #174EA6;\n",
              "    }\n",
              "\n",
              "    .colab-df-buttons div {\n",
              "      margin-bottom: 4px;\n",
              "    }\n",
              "\n",
              "    [theme=dark] .colab-df-convert {\n",
              "      background-color: #3B4455;\n",
              "      fill: #D2E3FC;\n",
              "    }\n",
              "\n",
              "    [theme=dark] .colab-df-convert:hover {\n",
              "      background-color: #434B5C;\n",
              "      box-shadow: 0px 1px 3px 1px rgba(0, 0, 0, 0.15);\n",
              "      filter: drop-shadow(0px 1px 2px rgba(0, 0, 0, 0.3));\n",
              "      fill: #FFFFFF;\n",
              "    }\n",
              "  </style>\n",
              "\n",
              "    <script>\n",
              "      const buttonEl =\n",
              "        document.querySelector('#df-c71b5e1f-15be-41bf-bb20-55c6f74090f4 button.colab-df-convert');\n",
              "      buttonEl.style.display =\n",
              "        google.colab.kernel.accessAllowed ? 'block' : 'none';\n",
              "\n",
              "      async function convertToInteractive(key) {\n",
              "        const element = document.querySelector('#df-c71b5e1f-15be-41bf-bb20-55c6f74090f4');\n",
              "        const dataTable =\n",
              "          await google.colab.kernel.invokeFunction('convertToInteractive',\n",
              "                                                    [key], {});\n",
              "        if (!dataTable) return;\n",
              "\n",
              "        const docLinkHtml = 'Like what you see? Visit the ' +\n",
              "          '<a target=\"_blank\" href=https://colab.research.google.com/notebooks/data_table.ipynb>data table notebook</a>'\n",
              "          + ' to learn more about interactive tables.';\n",
              "        element.innerHTML = '';\n",
              "        dataTable['output_type'] = 'display_data';\n",
              "        await google.colab.output.renderOutput(dataTable, element);\n",
              "        const docLink = document.createElement('div');\n",
              "        docLink.innerHTML = docLinkHtml;\n",
              "        element.appendChild(docLink);\n",
              "      }\n",
              "    </script>\n",
              "  </div>\n",
              "\n",
              "\n",
              "<div id=\"df-f3288829-f442-40eb-bb93-c8d7c173425a\">\n",
              "  <button class=\"colab-df-quickchart\" onclick=\"quickchart('df-f3288829-f442-40eb-bb93-c8d7c173425a')\"\n",
              "            title=\"Suggest charts\"\n",
              "            style=\"display:none;\">\n",
              "\n",
              "<svg xmlns=\"http://www.w3.org/2000/svg\" height=\"24px\"viewBox=\"0 0 24 24\"\n",
              "     width=\"24px\">\n",
              "    <g>\n",
              "        <path d=\"M19 3H5c-1.1 0-2 .9-2 2v14c0 1.1.9 2 2 2h14c1.1 0 2-.9 2-2V5c0-1.1-.9-2-2-2zM9 17H7v-7h2v7zm4 0h-2V7h2v10zm4 0h-2v-4h2v4z\"/>\n",
              "    </g>\n",
              "</svg>\n",
              "  </button>\n",
              "\n",
              "<style>\n",
              "  .colab-df-quickchart {\n",
              "      --bg-color: #E8F0FE;\n",
              "      --fill-color: #1967D2;\n",
              "      --hover-bg-color: #E2EBFA;\n",
              "      --hover-fill-color: #174EA6;\n",
              "      --disabled-fill-color: #AAA;\n",
              "      --disabled-bg-color: #DDD;\n",
              "  }\n",
              "\n",
              "  [theme=dark] .colab-df-quickchart {\n",
              "      --bg-color: #3B4455;\n",
              "      --fill-color: #D2E3FC;\n",
              "      --hover-bg-color: #434B5C;\n",
              "      --hover-fill-color: #FFFFFF;\n",
              "      --disabled-bg-color: #3B4455;\n",
              "      --disabled-fill-color: #666;\n",
              "  }\n",
              "\n",
              "  .colab-df-quickchart {\n",
              "    background-color: var(--bg-color);\n",
              "    border: none;\n",
              "    border-radius: 50%;\n",
              "    cursor: pointer;\n",
              "    display: none;\n",
              "    fill: var(--fill-color);\n",
              "    height: 32px;\n",
              "    padding: 0;\n",
              "    width: 32px;\n",
              "  }\n",
              "\n",
              "  .colab-df-quickchart:hover {\n",
              "    background-color: var(--hover-bg-color);\n",
              "    box-shadow: 0 1px 2px rgba(60, 64, 67, 0.3), 0 1px 3px 1px rgba(60, 64, 67, 0.15);\n",
              "    fill: var(--button-hover-fill-color);\n",
              "  }\n",
              "\n",
              "  .colab-df-quickchart-complete:disabled,\n",
              "  .colab-df-quickchart-complete:disabled:hover {\n",
              "    background-color: var(--disabled-bg-color);\n",
              "    fill: var(--disabled-fill-color);\n",
              "    box-shadow: none;\n",
              "  }\n",
              "\n",
              "  .colab-df-spinner {\n",
              "    border: 2px solid var(--fill-color);\n",
              "    border-color: transparent;\n",
              "    border-bottom-color: var(--fill-color);\n",
              "    animation:\n",
              "      spin 1s steps(1) infinite;\n",
              "  }\n",
              "\n",
              "  @keyframes spin {\n",
              "    0% {\n",
              "      border-color: transparent;\n",
              "      border-bottom-color: var(--fill-color);\n",
              "      border-left-color: var(--fill-color);\n",
              "    }\n",
              "    20% {\n",
              "      border-color: transparent;\n",
              "      border-left-color: var(--fill-color);\n",
              "      border-top-color: var(--fill-color);\n",
              "    }\n",
              "    30% {\n",
              "      border-color: transparent;\n",
              "      border-left-color: var(--fill-color);\n",
              "      border-top-color: var(--fill-color);\n",
              "      border-right-color: var(--fill-color);\n",
              "    }\n",
              "    40% {\n",
              "      border-color: transparent;\n",
              "      border-right-color: var(--fill-color);\n",
              "      border-top-color: var(--fill-color);\n",
              "    }\n",
              "    60% {\n",
              "      border-color: transparent;\n",
              "      border-right-color: var(--fill-color);\n",
              "    }\n",
              "    80% {\n",
              "      border-color: transparent;\n",
              "      border-right-color: var(--fill-color);\n",
              "      border-bottom-color: var(--fill-color);\n",
              "    }\n",
              "    90% {\n",
              "      border-color: transparent;\n",
              "      border-bottom-color: var(--fill-color);\n",
              "    }\n",
              "  }\n",
              "</style>\n",
              "\n",
              "  <script>\n",
              "    async function quickchart(key) {\n",
              "      const quickchartButtonEl =\n",
              "        document.querySelector('#' + key + ' button');\n",
              "      quickchartButtonEl.disabled = true;  // To prevent multiple clicks.\n",
              "      quickchartButtonEl.classList.add('colab-df-spinner');\n",
              "      try {\n",
              "        const charts = await google.colab.kernel.invokeFunction(\n",
              "            'suggestCharts', [key], {});\n",
              "      } catch (error) {\n",
              "        console.error('Error during call to suggestCharts:', error);\n",
              "      }\n",
              "      quickchartButtonEl.classList.remove('colab-df-spinner');\n",
              "      quickchartButtonEl.classList.add('colab-df-quickchart-complete');\n",
              "    }\n",
              "    (() => {\n",
              "      let quickchartButtonEl =\n",
              "        document.querySelector('#df-f3288829-f442-40eb-bb93-c8d7c173425a button');\n",
              "      quickchartButtonEl.style.display =\n",
              "        google.colab.kernel.accessAllowed ? 'block' : 'none';\n",
              "    })();\n",
              "  </script>\n",
              "</div>\n",
              "    </div>\n",
              "  </div>\n"
            ]
          },
          "metadata": {}
        }
      ]
    },
    {
      "cell_type": "code",
      "source": [
        "# resize images with grayscale into 100 * 100\n",
        "img_size = 100\n",
        "# Function to resize images\n",
        "def resize_image(img_array, width, height):\n",
        "    return cv2.resize(img_array,(img_size,img_size), 1)\n",
        "\n",
        "def covert_to_rgb(img_raw):\n",
        "    return cv2.cvtColor(img_raw, cv2.COLOR_BGR2RGB)\n",
        "\n",
        "# df['img_raw'].apply(lambda x: covert_to_rgb(x))\n",
        "\n",
        "# Resize images and append them as a new column\n",
        "resized_img_raw = df['img_raw'].apply(lambda x: resize_image(x, img_size, img_size))\n",
        "# df['resized_img_rgb'] = df['img_rgb'].apply(lambda x: resize_image(x, img_size, img_size))\n",
        "resized_img_grey = df['img_grey'].apply(lambda x: resize_image(x, img_size, img_size))"
      ],
      "metadata": {
        "id": "q0vQurOIHQ0G"
      },
      "execution_count": 5,
      "outputs": []
    },
    {
      "cell_type": "code",
      "source": [
        "# Display the original and resized images for the first row\n",
        "plt.subplot(1, 2, 1)\n",
        "plt.imshow(covert_to_rgb(df['img_raw'][0]))\n",
        "plt.title('Original Image')\n",
        "\n",
        "plt.subplot(1, 2, 2)\n",
        "plt.imshow(resized_img_grey[0], cmap='gray')\n",
        "plt.title('Resized Image')\n",
        "\n",
        "plt.show()"
      ],
      "metadata": {
        "id": "uKxQP5U2Refr",
        "outputId": "6bccce51-0ea1-41cf-b7b6-259cbf1612a0",
        "colab": {
          "base_uri": "https://localhost:8080/",
          "height": 308
        }
      },
      "execution_count": 6,
      "outputs": [
        {
          "output_type": "display_data",
          "data": {
            "text/plain": [
              "<Figure size 640x480 with 2 Axes>"
            ],
            "image/png": "[encoded data removed]"
          },
          "metadata": {}
        }
      ]
    },
    {
      "cell_type": "code",
      "source": [
        "#create training data\n",
        "training_data =[]\n",
        "\n",
        "def create_training_data():\n",
        "    for i in categories:\n",
        "\n",
        "        path = os.path.join(data_dir,i) #create path to sports types\n",
        "        class_num = categories.index(i) #get the classification (indexing each category)\n",
        "\n",
        "        for img in os.listdir(path):\n",
        "            try:\n",
        "                img_array = cv2.imread(os.path.join(path,img),cv2.IMREAD_GRAYSCALE)\n",
        "                new_array2 = cv2.resize(img_array,(img_size,img_size))\n",
        "                training_data.append([new_array2,class_num])\n",
        "\n",
        "            except Exception as e:\n",
        "                pass\n",
        "\n",
        "\n",
        "create_training_data()"
      ],
      "metadata": {
        "id": "NlWbZYqpK56d"
      },
      "execution_count": 8,
      "outputs": []
    },
    {
      "cell_type": "code",
      "source": [
        "df['one_hot_encoded'] = df['category_index'].apply(lambda x: to_categorical(x, num_classes=len(categories)))\n",
        "display(df.head())"
      ],
      "metadata": {
        "id": "bg9FeNp3vIai",
        "outputId": "a05878af-0008-49c3-9df1-e4768073f4a6",
        "colab": {
          "base_uri": "https://localhost:8080/",
          "height": 206
        }
      },
      "execution_count": 19,
      "outputs": [
        {
          "output_type": "display_data",
          "data": {
            "text/plain": [
              "    category                                            img_raw  \\\n",
              "0  badminton  [[[10, 10, 10], [8, 8, 8], [4, 4, 4], [3, 3, 3...   \n",
              "1  badminton  [[[191, 138, 211], [192, 139, 212], [192, 139,...   \n",
              "2  badminton  [[[251, 251, 251], [251, 251, 251], [251, 251,...   \n",
              "3  badminton  [[[14, 1, 0], [14, 1, 0], [14, 1, 0], [14, 1, ...   \n",
              "4  badminton  [[[133, 99, 69], [127, 93, 63], [123, 90, 57],...   \n",
              "\n",
              "                                            img_grey  category_index  \\\n",
              "0  [[10, 8, 4, 3, 4, 4, 4, 3, 4, 4, 4, 4, 4, 4, 4...               0   \n",
              "1  [[166, 167, 167, 168, 168, 167, 167, 166, 165,...               0   \n",
              "2  [[251, 251, 251, 251, 251, 251, 251, 251, 251,...               0   \n",
              "3  [[2, 2, 2, 2, 2, 2, 2, 2, 2, 2, 2, 2, 2, 2, 2,...               0   \n",
              "4  [[94, 88, 84, 89, 98, 102, 97, 90, 87, 87, 89,...               0   \n",
              "\n",
              "                                     one_hot_encoded  \n",
              "0  [1.0, 0.0, 0.0, 0.0, 0.0, 0.0, 0.0, 0.0, 0.0, ...  \n",
              "1  [1.0, 0.0, 0.0, 0.0, 0.0, 0.0, 0.0, 0.0, 0.0, ...  \n",
              "2  [1.0, 0.0, 0.0, 0.0, 0.0, 0.0, 0.0, 0.0, 0.0, ...  \n",
              "3  [1.0, 0.0, 0.0, 0.0, 0.0, 0.0, 0.0, 0.0, 0.0, ...  \n",
              "4  [1.0, 0.0, 0.0, 0.0, 0.0, 0.0, 0.0, 0.0, 0.0, ...  "
            ],
            "text/html": [
              "\n",
              "  <div id=\"df-ca161b12-e8f2-469f-86d5-bc0351ff3a0f\" class=\"colab-df-container\">\n",
              "    <div>\n",
              "<style scoped>\n",
              "    .dataframe tbody tr th:only-of-type {\n",
              "        vertical-align: middle;\n",
              "    }\n",
              "\n",
              "    .dataframe tbody tr th {\n",
              "        vertical-align: top;\n",
              "    }\n",
              "\n",
              "    .dataframe thead th {\n",
              "        text-align: right;\n",
              "    }\n",
              "</style>\n",
              "<table border=\"1\" class=\"dataframe\">\n",
              "  <thead>\n",
              "    <tr style=\"text-align: right;\">\n",
              "      <th></th>\n",
              "      <th>category</th>\n",
              "      <th>img_raw</th>\n",
              "      <th>img_grey</th>\n",
              "      <th>category_index</th>\n",
              "      <th>one_hot_encoded</th>\n",
              "    </tr>\n",
              "  </thead>\n",
              "  <tbody>\n",
              "    <tr>\n",
              "      <th>0</th>\n",
              "      <td>badminton</td>\n",
              "      <td>[[[10, 10, 10], [8, 8, 8], [4, 4, 4], [3, 3, 3...</td>\n",
              "      <td>[[10, 8, 4, 3, 4, 4, 4, 3, 4, 4, 4, 4, 4, 4, 4...</td>\n",
              "      <td>0</td>\n",
              "      <td>[1.0, 0.0, 0.0, 0.0, 0.0, 0.0, 0.0, 0.0, 0.0, ...</td>\n",
              "    </tr>\n",
              "    <tr>\n",
              "      <th>1</th>\n",
              "      <td>badminton</td>\n",
              "      <td>[[[191, 138, 211], [192, 139, 212], [192, 139,...</td>\n",
              "      <td>[[166, 167, 167, 168, 168, 167, 167, 166, 165,...</td>\n",
              "      <td>0</td>\n",
              "      <td>[1.0, 0.0, 0.0, 0.0, 0.0, 0.0, 0.0, 0.0, 0.0, ...</td>\n",
              "    </tr>\n",
              "    <tr>\n",
              "      <th>2</th>\n",
              "      <td>badminton</td>\n",
              "      <td>[[[251, 251, 251], [251, 251, 251], [251, 251,...</td>\n",
              "      <td>[[251, 251, 251, 251, 251, 251, 251, 251, 251,...</td>\n",
              "      <td>0</td>\n",
              "      <td>[1.0, 0.0, 0.0, 0.0, 0.0, 0.0, 0.0, 0.0, 0.0, ...</td>\n",
              "    </tr>\n",
              "    <tr>\n",
              "      <th>3</th>\n",
              "      <td>badminton</td>\n",
              "      <td>[[[14, 1, 0], [14, 1, 0], [14, 1, 0], [14, 1, ...</td>\n",
              "      <td>[[2, 2, 2, 2, 2, 2, 2, 2, 2, 2, 2, 2, 2, 2, 2,...</td>\n",
              "      <td>0</td>\n",
              "      <td>[1.0, 0.0, 0.0, 0.0, 0.0, 0.0, 0.0, 0.0, 0.0, ...</td>\n",
              "    </tr>\n",
              "    <tr>\n",
              "      <th>4</th>\n",
              "      <td>badminton</td>\n",
              "      <td>[[[133, 99, 69], [127, 93, 63], [123, 90, 57],...</td>\n",
              "      <td>[[94, 88, 84, 89, 98, 102, 97, 90, 87, 87, 89,...</td>\n",
              "      <td>0</td>\n",
              "      <td>[1.0, 0.0, 0.0, 0.0, 0.0, 0.0, 0.0, 0.0, 0.0, ...</td>\n",
              "    </tr>\n",
              "  </tbody>\n",
              "</table>\n",
              "</div>\n",
              "    <div class=\"colab-df-buttons\">\n",
              "\n",
              "  <div class=\"colab-df-container\">\n",
              "    <button class=\"colab-df-convert\" onclick=\"convertToInteractive('df-ca161b12-e8f2-469f-86d5-bc0351ff3a0f')\"\n",
              "            title=\"Convert this dataframe to an interactive table.\"\n",
              "            style=\"display:none;\">\n",
              "\n",
              "  <svg xmlns=\"http://www.w3.org/2000/svg\" height=\"24px\" viewBox=\"0 -960 960 960\">\n",
              "    <path d=\"M120-120v-720h720v720H120Zm60-500h600v-160H180v160Zm220 220h160v-160H400v160Zm0 220h160v-160H400v160ZM180-400h160v-160H180v160Zm440 0h160v-160H620v160ZM180-180h160v-160H180v160Zm440 0h160v-160H620v160Z\"/>\n",
              "  </svg>\n",
              "    </button>\n",
              "\n",
              "  <style>\n",
              "    .colab-df-container {\n",
              "      display:flex;\n",
              "      gap: 12px;\n",
              "    }\n",
              "\n",
              "    .colab-df-convert {\n",
              "      background-color: #E8F0FE;\n",
              "      border: none;\n",
              "      border-radius: 50%;\n",
              "      cursor: pointer;\n",
              "      display: none;\n",
              "      fill: #1967D2;\n",
              "      height: 32px;\n",
              "      padding: 0 0 0 0;\n",
              "      width: 32px;\n",
              "    }\n",
              "\n",
              "    .colab-df-convert:hover {\n",
              "      background-color: #E2EBFA;\n",
              "      box-shadow: 0px 1px 2px rgba(60, 64, 67, 0.3), 0px 1px 3px 1px rgba(60, 64, 67, 0.15);\n",
              "      fill: #174EA6;\n",
              "    }\n",
              "\n",
              "    .colab-df-buttons div {\n",
              "      margin-bottom: 4px;\n",
              "    }\n",
              "\n",
              "    [theme=dark] .colab-df-convert {\n",
              "      background-color: #3B4455;\n",
              "      fill: #D2E3FC;\n",
              "    }\n",
              "\n",
              "    [theme=dark] .colab-df-convert:hover {\n",
              "      background-color: #434B5C;\n",
              "      box-shadow: 0px 1px 3px 1px rgba(0, 0, 0, 0.15);\n",
              "      filter: drop-shadow(0px 1px 2px rgba(0, 0, 0, 0.3));\n",
              "      fill: #FFFFFF;\n",
              "    }\n",
              "  </style>\n",
              "\n",
              "    <script>\n",
              "      const buttonEl =\n",
              "        document.querySelector('#df-ca161b12-e8f2-469f-86d5-bc0351ff3a0f button.colab-df-convert');\n",
              "      buttonEl.style.display =\n",
              "        google.colab.kernel.accessAllowed ? 'block' : 'none';\n",
              "\n",
              "      async function convertToInteractive(key) {\n",
              "        const element = document.querySelector('#df-ca161b12-e8f2-469f-86d5-bc0351ff3a0f');\n",
              "        const dataTable =\n",
              "          await google.colab.kernel.invokeFunction('convertToInteractive',\n",
              "                                                    [key], {});\n",
              "        if (!dataTable) return;\n",
              "\n",
              "        const docLinkHtml = 'Like what you see? Visit the ' +\n",
              "          '<a target=\"_blank\" href=https://colab.research.google.com/notebooks/data_table.ipynb>data table notebook</a>'\n",
              "          + ' to learn more about interactive tables.';\n",
              "        element.innerHTML = '';\n",
              "        dataTable['output_type'] = 'display_data';\n",
              "        await google.colab.output.renderOutput(dataTable, element);\n",
              "        const docLink = document.createElement('div');\n",
              "        docLink.innerHTML = docLinkHtml;\n",
              "        element.appendChild(docLink);\n",
              "      }\n",
              "    </script>\n",
              "  </div>\n",
              "\n",
              "\n",
              "<div id=\"df-1a96a4c3-325d-4230-a2f4-a7a47643d69e\">\n",
              "  <button class=\"colab-df-quickchart\" onclick=\"quickchart('df-1a96a4c3-325d-4230-a2f4-a7a47643d69e')\"\n",
              "            title=\"Suggest charts\"\n",
              "            style=\"display:none;\">\n",
              "\n",
              "<svg xmlns=\"http://www.w3.org/2000/svg\" height=\"24px\"viewBox=\"0 0 24 24\"\n",
              "     width=\"24px\">\n",
              "    <g>\n",
              "        <path d=\"M19 3H5c-1.1 0-2 .9-2 2v14c0 1.1.9 2 2 2h14c1.1 0 2-.9 2-2V5c0-1.1-.9-2-2-2zM9 17H7v-7h2v7zm4 0h-2V7h2v10zm4 0h-2v-4h2v4z\"/>\n",
              "    </g>\n",
              "</svg>\n",
              "  </button>\n",
              "\n",
              "<style>\n",
              "  .colab-df-quickchart {\n",
              "      --bg-color: #E8F0FE;\n",
              "      --fill-color: #1967D2;\n",
              "      --hover-bg-color: #E2EBFA;\n",
              "      --hover-fill-color: #174EA6;\n",
              "      --disabled-fill-color: #AAA;\n",
              "      --disabled-bg-color: #DDD;\n",
              "  }\n",
              "\n",
              "  [theme=dark] .colab-df-quickchart {\n",
              "      --bg-color: #3B4455;\n",
              "      --fill-color: #D2E3FC;\n",
              "      --hover-bg-color: #434B5C;\n",
              "      --hover-fill-color: #FFFFFF;\n",
              "      --disabled-bg-color: #3B4455;\n",
              "      --disabled-fill-color: #666;\n",
              "  }\n",
              "\n",
              "  .colab-df-quickchart {\n",
              "    background-color: var(--bg-color);\n",
              "    border: none;\n",
              "    border-radius: 50%;\n",
              "    cursor: pointer;\n",
              "    display: none;\n",
              "    fill: var(--fill-color);\n",
              "    height: 32px;\n",
              "    padding: 0;\n",
              "    width: 32px;\n",
              "  }\n",
              "\n",
              "  .colab-df-quickchart:hover {\n",
              "    background-color: var(--hover-bg-color);\n",
              "    box-shadow: 0 1px 2px rgba(60, 64, 67, 0.3), 0 1px 3px 1px rgba(60, 64, 67, 0.15);\n",
              "    fill: var(--button-hover-fill-color);\n",
              "  }\n",
              "\n",
              "  .colab-df-quickchart-complete:disabled,\n",
              "  .colab-df-quickchart-complete:disabled:hover {\n",
              "    background-color: var(--disabled-bg-color);\n",
              "    fill: var(--disabled-fill-color);\n",
              "    box-shadow: none;\n",
              "  }\n",
              "\n",
              "  .colab-df-spinner {\n",
              "    border: 2px solid var(--fill-color);\n",
              "    border-color: transparent;\n",
              "    border-bottom-color: var(--fill-color);\n",
              "    animation:\n",
              "      spin 1s steps(1) infinite;\n",
              "  }\n",
              "\n",
              "  @keyframes spin {\n",
              "    0% {\n",
              "      border-color: transparent;\n",
              "      border-bottom-color: var(--fill-color);\n",
              "      border-left-color: var(--fill-color);\n",
              "    }\n",
              "    20% {\n",
              "      border-color: transparent;\n",
              "      border-left-color: var(--fill-color);\n",
              "      border-top-color: var(--fill-color);\n",
              "    }\n",
              "    30% {\n",
              "      border-color: transparent;\n",
              "      border-left-color: var(--fill-color);\n",
              "      border-top-color: var(--fill-color);\n",
              "      border-right-color: var(--fill-color);\n",
              "    }\n",
              "    40% {\n",
              "      border-color: transparent;\n",
              "      border-right-color: var(--fill-color);\n",
              "      border-top-color: var(--fill-color);\n",
              "    }\n",
              "    60% {\n",
              "      border-color: transparent;\n",
              "      border-right-color: var(--fill-color);\n",
              "    }\n",
              "    80% {\n",
              "      border-color: transparent;\n",
              "      border-right-color: var(--fill-color);\n",
              "      border-bottom-color: var(--fill-color);\n",
              "    }\n",
              "    90% {\n",
              "      border-color: transparent;\n",
              "      border-bottom-color: var(--fill-color);\n",
              "    }\n",
              "  }\n",
              "</style>\n",
              "\n",
              "  <script>\n",
              "    async function quickchart(key) {\n",
              "      const quickchartButtonEl =\n",
              "        document.querySelector('#' + key + ' button');\n",
              "      quickchartButtonEl.disabled = true;  // To prevent multiple clicks.\n",
              "      quickchartButtonEl.classList.add('colab-df-spinner');\n",
              "      try {\n",
              "        const charts = await google.colab.kernel.invokeFunction(\n",
              "            'suggestCharts', [key], {});\n",
              "      } catch (error) {\n",
              "        console.error('Error during call to suggestCharts:', error);\n",
              "      }\n",
              "      quickchartButtonEl.classList.remove('colab-df-spinner');\n",
              "      quickchartButtonEl.classList.add('colab-df-quickchart-complete');\n",
              "    }\n",
              "    (() => {\n",
              "      let quickchartButtonEl =\n",
              "        document.querySelector('#df-1a96a4c3-325d-4230-a2f4-a7a47643d69e button');\n",
              "      quickchartButtonEl.style.display =\n",
              "        google.colab.kernel.accessAllowed ? 'block' : 'none';\n",
              "    })();\n",
              "  </script>\n",
              "</div>\n",
              "    </div>\n",
              "  </div>\n"
            ]
          },
          "metadata": {}
        }
      ]
    },
    {
      "cell_type": "code",
      "source": [
        "#shuffle all the training data\n",
        "random.shuffle(training_data)\n",
        "for sample in training_data[:5]:\n",
        "    print(sample) #print first 5"
      ],
      "metadata": {
        "id": "K7rSvkS5L7Zj"
      },
      "execution_count": null,
      "outputs": []
    },
    {
      "cell_type": "code",
      "source": [
        "#creating lable and features\n",
        "\n",
        "x=[] #features\n",
        "y=[] #label\n",
        "#y = np.array(y)\n",
        "\n",
        "for features,label in training_data:\n",
        "    x.append(features)\n",
        "    y.append(label)\n",
        "    np.array((y, label))\n",
        "\n",
        "print(\"Before converting into numpy array:\")\n",
        "x=np.array(x).reshape(-1,img_size,img_size,1)\n",
        "\n",
        "print(\"After converting into numpy array:\")\n",
        "y = np.array(y)\n",
        "\n",
        "# normalize inputs from 0-255 to 0-1\n",
        "x = x/255.0"
      ],
      "metadata": {
        "id": "aV20ZBEhDlA7"
      },
      "execution_count": null,
      "outputs": []
    },
    {
      "cell_type": "markdown",
      "source": [
        "## Save with Pickle"
      ],
      "metadata": {
        "id": "BtfpVOAiPeap"
      }
    },
    {
      "cell_type": "code",
      "source": [
        "#Optional Save the x and y"
      ],
      "metadata": {
        "id": "KpEqfp14popr"
      },
      "execution_count": null,
      "outputs": []
    },
    {
      "cell_type": "code",
      "source": [
        "#dumping data into pickle file\n",
        "#x_location = '/content/drive/MyDrive/Final_Project_AAI_521/data/x.pickle'\n",
        "#y_location = '/content/drive/MyDrive/Final_Project_AAI_521/data/y.pickle'\n",
        "\n",
        "#pickle file for features\n",
        "#pickle_out = open(x_location,\"wb\") #path to save pickle file\n",
        "#pickle.dump(x,pickle_out)\n",
        "#pickle_out.close()\n",
        "\n",
        "#pickle file for label\n",
        "#pickle_out = open(y_location,\"wb\") #path to save pickle file\n",
        "#pickle.dump(y,pickle_out)\n",
        "#pickle_out.close()"
      ],
      "metadata": {
        "id": "N5BPftOTEOxt"
      },
      "execution_count": null,
      "outputs": []
    },
    {
      "cell_type": "code",
      "source": [
        "#importing data (pickle) files x and y\n",
        "#pickle_in = open(x_location,\"rb\")   #rb - read binary form #wb - Write binary form\n",
        "#x = pickle.load(pickle_in)\n",
        "\n",
        "\n",
        "#pickle_in = open(y_location,\"rb\")   #rb - read binary form #wb - Write binary form\n",
        "#y = pickle.load(pickle_in)"
      ],
      "metadata": {
        "id": "PJCmLpXcEXKP"
      },
      "execution_count": null,
      "outputs": []
    },
    {
      "cell_type": "code",
      "source": [],
      "metadata": {
        "id": "UfJGCeh8HCv7"
      },
      "execution_count": null,
      "outputs": []
    },
    {
      "cell_type": "markdown",
      "source": [
        "## Train Test Split"
      ],
      "metadata": {
        "id": "2osRetsuPyXZ"
      }
    },
    {
      "cell_type": "code",
      "source": [
        "#create a split of data for the model fit and training\n",
        "train_x,test_x, train_y,test_y = train_test_split(x,y,test_size=0.2, seed=22)"
      ],
      "metadata": {
        "id": "I3ChdBMFHWry"
      },
      "execution_count": null,
      "outputs": []
    },
    {
      "cell_type": "code",
      "source": [
        "test_y_cat = to_categorical(test_y)\n",
        "train_y_cat = to_categorical(train_y)\n",
        "print(\"one hot encoded for categorial\")\n",
        "print(train_y_cat[1])\n",
        "print(len(train_y_cat[0]))\n",
        "\n",
        "\n"
      ],
      "metadata": {
        "id": "xIKMoRtmIx0a"
      },
      "execution_count": null,
      "outputs": []
    },
    {
      "cell_type": "markdown",
      "source": [
        "##Object Detection"
      ],
      "metadata": {
        "id": "ee0LkmAMeRtO"
      }
    },
    {
      "cell_type": "code",
      "source": [
        "#Clone yolo 8 and check all dependencies\n",
        "!pip install ultralytics\n",
        "import ultralytics\n",
        "ultralytics.checks()"
      ],
      "metadata": {
        "id": "T-RySvtdeRKT"
      },
      "execution_count": null,
      "outputs": []
    },
    {
      "cell_type": "code",
      "source": [
        "#Train YOLO8 model\n",
        "from ultralytics import YOLO\n",
        "model = YOLO(\"yolov8n.yaml\")\n",
        "model = YOLO(\"yolov8n.pt\")\n",
        "model.train(data=\"coco128.yaml\", epochs=3, verbose=False)"
      ],
      "metadata": {
        "id": "ffSr9G1_g2g-"
      },
      "execution_count": null,
      "outputs": []
    },
    {
      "cell_type": "code",
      "source": [
        "#Test model on images from test dataset\n",
        "from IPython.display import Image\n",
        "metrics = model.val()"
      ],
      "metadata": {
        "id": "FX53CgPthO2e"
      },
      "execution_count": null,
      "outputs": []
    },
    {
      "cell_type": "code",
      "source": [
        "def obj_det(image_path):\n",
        "  results = model(source=image_path,save=True, save_txt=True, project='runs/detect', name='predict', exist_ok=True)\n",
        "  N = 12\n",
        "  img_numb = image_path[-N:]\n",
        "  return Image(filename='/content/runs/detect/predict/'+img_numb,width=600)"
      ],
      "metadata": {
        "id": "Whc5MLlrtLUs"
      },
      "execution_count": null,
      "outputs": []
    },
    {
      "cell_type": "code",
      "source": [
        "obj_det('/content/kaggle_data/data/tennis/00000007.jpg')"
      ],
      "metadata": {
        "id": "QnznaLkBufQI"
      },
      "execution_count": null,
      "outputs": []
    },
    {
      "cell_type": "code",
      "source": [
        "obj_det('/content/kaggle_data/data/formula1/00000023.jpg')"
      ],
      "metadata": {
        "id": "BXLP1EkpyzOk"
      },
      "execution_count": null,
      "outputs": []
    },
    {
      "cell_type": "code",
      "source": [
        "obj_det('/content/kaggle_data/data/baseball/00000028.jpg')"
      ],
      "metadata": {
        "id": "A1pbPpu6y3_Q"
      },
      "execution_count": null,
      "outputs": []
    },
    {
      "cell_type": "code",
      "source": [
        "obj_det('/content/kaggle_data/data/gymnastics/00000055.jpg')"
      ],
      "metadata": {
        "id": "EHQ63B71y8h8"
      },
      "execution_count": null,
      "outputs": []
    },
    {
      "cell_type": "markdown",
      "source": [
        "#Building Classification model"
      ],
      "metadata": {
        "id": "dnzGsypJRNAf"
      }
    },
    {
      "cell_type": "code",
      "source": [
        "def create_training_data_2(df, resized_img_raw, resized_img_grey):\n",
        "  IMAGE_SHAPE = (224, 224)\n",
        "  BATCH_SIZE = 32\n",
        "\n",
        "  #This is for resnet\n",
        "  train_datagen_res = ImageDataGenerator(rescale=1/255.)\n",
        "  test_datagen_res = ImageDataGenerator(rescale=1/255.)\n",
        "\n",
        "  #This is for efficientNet, which does not require image rescaling.\n",
        "  train_datagen_eff = ImageDataGenerator(rescale=None)\n",
        "  test_datagen_eff = ImageDataGenerator(rescale=None)\n",
        "\n",
        "  x = df[['img_raw', 'img_grey']]\n",
        "  y = df['category_index']\n",
        "\n",
        "  train_x,test_x, train_y,test_y = train_test_split(x,y,test_size=0.2)\n",
        "\n",
        "  print(\"one hot encoded for categorial\")\n",
        "  test_y_cat = to_categorical(test_y)\n",
        "  train_y_cat = to_categorical(train_y)\n",
        "\n",
        "  print(\"type of x \", type(test_x))\n",
        "  # print(\"value of test_x\", test_x[0])\n",
        "  print(\"type of y \", type(test_y))\n",
        "  # print(\"value of test_x\", test_y[0])\n",
        "  print(\"type of test_y_cat\", type(test_y_cat))\n",
        "  print(\"value of test_y_cat\", train_y_cat[1])\n",
        "\n",
        "  # Convert image data to NumPy arrays\n",
        "  train_x_raw = np.array(train_x['img_raw'].apply(lambda x: np.array(x)).tolist())\n",
        "  test_x_raw = np.array(test_x['img_raw'].apply(lambda x: np.array(x)).tolist())\n",
        "\n",
        "  train_x_grey = np.array(train_x['img_grey'].apply(lambda x: np.array(x)).tolist())\n",
        "  test_x_grey = np.array(test_x['img_grey'].apply(lambda x: np.array(x)).tolist())\n",
        "\n",
        "  print(\"Training images for ResNet:\")\n",
        "  train_data_res = train_datagen_res.flow(train_x_raw, train_y_cat, batch_size=BATCH_SIZE)\n",
        "\n",
        "  print(\"Testing images for ResNet:\")\n",
        "  test_data_res = test_datagen_res.flow(test_x_raw, test_y_cat, batch_size=BATCH_SIZE)\n",
        "\n",
        "  # Data augmentation for EfficientNet\n",
        "  train_datagen_eff = ImageDataGenerator(rescale=None)\n",
        "  test_datagen_eff = ImageDataGenerator(rescale=None)\n",
        "\n",
        "  print(\"Training images for EfficientNet:\")\n",
        "  train_data_eff = train_datagen_eff.flow(train_x_grey, train_y_cat, batch_size=BATCH_SIZE)\n",
        "\n",
        "  print(\"Testing images for EfficientNet:\")\n",
        "  test_data_eff = test_datagen_eff.flow(test_x_grey, test_y_cat, batch_size=BATCH_SIZE)\n",
        "\n",
        "  return train_data_res, test_data_res, train_data_eff, test_data_eff\n",
        "\n",
        "train_data_res, test_data_res, train_data_eff, test_data_eff = create_training_data_2(df, resized_img_raw, resized_img_grey)"
      ],
      "metadata": {
        "id": "T9uwy3V-oK02",
        "outputId": "ff7e60fa-0ecb-4623-dff9-61a1786d0fa8",
        "colab": {
          "base_uri": "https://localhost:8080/"
        }
      },
      "execution_count": null,
      "outputs": [
        {
          "output_type": "stream",
          "name": "stdout",
          "text": [
            "one hot encoded for categorial\n",
            "type of x  <class 'pandas.core.frame.DataFrame'>\n",
            "type of y  <class 'pandas.core.series.Series'>\n",
            "type of test_y_cat <class 'numpy.ndarray'>\n",
            "value of test_y_cat [0. 0. 0. 0. 0. 0. 0. 0. 0. 0. 0. 0. 0. 0. 0. 0. 0. 0. 0. 0. 1. 0.]\n"
          ]
        }
      ]
    },
    {
      "cell_type": "code",
      "source": [
        "# Resnet 50 V2 feature vector\n",
        "resnet_url = \"https://tfhub.dev/google/imagenet/resnet_v2_50/feature_vector/4\"\n",
        "\n",
        "# Original: EfficientNetB0 feature vector (version 1)\n",
        "efficientnet_url = \"https://tfhub.dev/tensorflow/efficientnet/b0/feature-vector/1\""
      ],
      "metadata": {
        "id": "QQSnkSUI3IUa"
      },
      "execution_count": 20,
      "outputs": []
    },
    {
      "cell_type": "code",
      "source": [
        "import tensorflow_hub as hub\n",
        "from tensorflow.keras import layers\n",
        "\n",
        "def create_model(model_url, num_classes=len(categories)): #Since there are 7 output classes in this dataset\n",
        "  \"\"\"\n",
        "  Takes a TensorFlow Hub URL and creates a Keras Sequential model with it.\n",
        "\n",
        "  Args:\n",
        "    model_url (str): A TensorFlow Hub feature extraction URL.\n",
        "    num_classes (int): Number of output neurons in output layer,\n",
        "      should be equal to number of target classes, default 10.\n",
        "\n",
        "  Returns:\n",
        "    An uncompiled Keras Sequential model with model_url as feature\n",
        "    extractor layer and Dense output layer with num_classes outputs.\n",
        "  \"\"\"\n",
        "  # Download the pretrained model and save it as a Keras layer\n",
        "  feature_extractor_layer = hub.KerasLayer(model_url,\n",
        "                                           trainable=False, # freeze the underlying patterns\n",
        "                                           name='feature_extraction_layer',\n",
        "                                           input_shape=(100,100)+(3,)) # define the input image shape\n",
        "\n",
        "  # Create our own model\n",
        "  model = tf.keras.Sequential([\n",
        "    feature_extractor_layer, # use the feature extraction layer as the base\n",
        "    layers.Dense(num_classes, activation='softmax', name='output_layer') # create our own output layer\n",
        "  ])\n",
        "\n",
        "  return model"
      ],
      "metadata": {
        "id": "UTgyHQSz3JhO"
      },
      "execution_count": 22,
      "outputs": []
    },
    {
      "cell_type": "code",
      "source": [],
      "metadata": {
        "id": "yMBM3kcX3Q1o"
      },
      "execution_count": null,
      "outputs": []
    }
  ]
}